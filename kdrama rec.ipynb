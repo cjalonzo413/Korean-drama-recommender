{
 "cells": [
  {
   "cell_type": "markdown",
   "metadata": {},
   "source": [
    "# Korean Drama Recommender\n",
    "\n",
    "I love watching Korean Dramas so I wanted to see if I could make my own recommender. I took the categories from the dataset I thought were most interesting and did some EDA on them and then used ML to create the recommender.c"
   ]
  },
  {
   "cell_type": "code",
   "execution_count": 1,
   "metadata": {},
   "outputs": [],
   "source": [
    "#import libraries\n",
    "import numpy as np\n",
    "import pandas as pd\n",
    "import seaborn as sns\n",
    "import matplotlib.pyplot as plt\n",
    "import warnings\n",
    "warnings.filterwarnings('ignore')\n",
    "import re\n",
    "import nltk\n",
    "from nltk.stem import WordNetLemmatizer\n",
    "from nltk.corpus import stopwords\n",
    "nltk.download('punkt', 'averaged_perception_tagger', 'wordnet', 'stopwords')\n",
    "from collections import Counter\n",
    "from sklearn.feature_extraction.text import TfidfVectorizer\n",
    "from sklearn.feature_extraction.text import CountVectorizer\n",
    "from sklearn.metrics.pairwise import linear_kernel\n",
    "from sklearn.metrics.pairwise import cosine_similarity"
   ]
  },
  {
   "cell_type": "code",
   "execution_count": 2,
   "metadata": {},
   "outputs": [
    {
     "name": "stdout",
     "output_type": "stream",
     "text": [
      "Defaulting to user installation because normal site-packages is not writeable\n",
      "Requirement already satisfied: fuzzywuzzy in /home/labsuser/.local/lib/python3.7/site-packages (0.18.0)\n",
      "\u001b[33mWARNING: You are using pip version 22.0.3; however, version 23.1.2 is available.\n",
      "You should consider upgrading via the '/usr/local/bin/python3.7 -m pip install --upgrade pip' command.\u001b[0m\u001b[33m\n",
      "\u001b[0mNote: you may need to restart the kernel to use updated packages.\n"
     ]
    }
   ],
   "source": [
    "pip install fuzzywuzzy"
   ]
  },
  {
   "cell_type": "code",
   "execution_count": 3,
   "metadata": {},
   "outputs": [],
   "source": [
    "from fuzzywuzzy import fuzz\n",
    "from fuzzywuzzy import process"
   ]
  },
  {
   "cell_type": "markdown",
   "metadata": {},
   "source": [
    "## Preliminary Analysis"
   ]
  },
  {
   "cell_type": "code",
   "execution_count": 4,
   "metadata": {},
   "outputs": [],
   "source": [
    "df = pd.read_csv('kdrama.csv')"
   ]
  },
  {
   "cell_type": "code",
   "execution_count": 5,
   "metadata": {},
   "outputs": [
    {
     "data": {
      "text/html": [
       "<div>\n",
       "<style scoped>\n",
       "    .dataframe tbody tr th:only-of-type {\n",
       "        vertical-align: middle;\n",
       "    }\n",
       "\n",
       "    .dataframe tbody tr th {\n",
       "        vertical-align: top;\n",
       "    }\n",
       "\n",
       "    .dataframe thead th {\n",
       "        text-align: right;\n",
       "    }\n",
       "</style>\n",
       "<table border=\"1\" class=\"dataframe\">\n",
       "  <thead>\n",
       "    <tr style=\"text-align: right;\">\n",
       "      <th></th>\n",
       "      <th>Name</th>\n",
       "      <th>Aired Date</th>\n",
       "      <th>Year of release</th>\n",
       "      <th>Original Network</th>\n",
       "      <th>Aired On</th>\n",
       "      <th>Number of Episodes</th>\n",
       "      <th>Duration</th>\n",
       "      <th>Content Rating</th>\n",
       "      <th>Rating</th>\n",
       "      <th>Synopsis</th>\n",
       "      <th>Genre</th>\n",
       "      <th>Tags</th>\n",
       "      <th>Director</th>\n",
       "      <th>Screenwriter</th>\n",
       "      <th>Cast</th>\n",
       "      <th>Production companies</th>\n",
       "      <th>Rank</th>\n",
       "    </tr>\n",
       "  </thead>\n",
       "  <tbody>\n",
       "    <tr>\n",
       "      <th>0</th>\n",
       "      <td>Move to Heaven</td>\n",
       "      <td>May 14, 2021</td>\n",
       "      <td>2021</td>\n",
       "      <td>Netflix</td>\n",
       "      <td>Friday</td>\n",
       "      <td>10</td>\n",
       "      <td>52 min.</td>\n",
       "      <td>18+ Restricted (violence &amp; profanity)</td>\n",
       "      <td>9.2</td>\n",
       "      <td>Geu Roo is a young autistic man. He works for ...</td>\n",
       "      <td>Life,  Drama,  Family</td>\n",
       "      <td>Autism, Uncle-Nephew Relationship, Death, Sava...</td>\n",
       "      <td>Kim Sung Ho</td>\n",
       "      <td>Yoon Ji Ryun</td>\n",
       "      <td>Lee Je Hoon, Tang Jun Sang, Hong Seung Hee, Ju...</td>\n",
       "      <td>Page One Film, Number Three Pictures</td>\n",
       "      <td>#1</td>\n",
       "    </tr>\n",
       "    <tr>\n",
       "      <th>1</th>\n",
       "      <td>Flower of Evil</td>\n",
       "      <td>Jul 29, 2020 - Sep 23, 2020</td>\n",
       "      <td>2020</td>\n",
       "      <td>tvN</td>\n",
       "      <td>Wednesday, Thursday</td>\n",
       "      <td>16</td>\n",
       "      <td>1 hr. 10 min.</td>\n",
       "      <td>15+ - Teens 15 or older</td>\n",
       "      <td>9.1</td>\n",
       "      <td>Although Baek Hee Sung is hiding a dark secret...</td>\n",
       "      <td>Thriller,  Romance,  Crime,  Melodrama</td>\n",
       "      <td>Married Couple, Deception, Suspense, Family Se...</td>\n",
       "      <td>Kim Chul Gyu, Yoon Jong Ho</td>\n",
       "      <td>Yoo Jung Hee</td>\n",
       "      <td>Lee Joon Gi, Moon Chae Won, Jang Hee Jin, Seo ...</td>\n",
       "      <td>Monster Union</td>\n",
       "      <td>#2</td>\n",
       "    </tr>\n",
       "    <tr>\n",
       "      <th>2</th>\n",
       "      <td>Hospital Playlist</td>\n",
       "      <td>Mar 12, 2020 - May 28, 2020</td>\n",
       "      <td>2020</td>\n",
       "      <td>Netflix,  tvN</td>\n",
       "      <td>Thursday</td>\n",
       "      <td>12</td>\n",
       "      <td>1 hr. 30 min.</td>\n",
       "      <td>15+ - Teens 15 or older</td>\n",
       "      <td>9.1</td>\n",
       "      <td>The stories of people going through their days...</td>\n",
       "      <td>Friendship,  Romance,  Life,  Medical</td>\n",
       "      <td>Strong Friendship, Multiple Mains, Best Friend...</td>\n",
       "      <td>Shin Won Ho</td>\n",
       "      <td>Lee Woo Jung</td>\n",
       "      <td>Jo Jung Suk, Yoo Yeon Seok, Jung Kyung Ho, Kim...</td>\n",
       "      <td>Egg Is Coming, CJ ENM</td>\n",
       "      <td>#3</td>\n",
       "    </tr>\n",
       "    <tr>\n",
       "      <th>3</th>\n",
       "      <td>Hospital Playlist 2</td>\n",
       "      <td>Jun 17, 2021 - Sep 16, 2021</td>\n",
       "      <td>2021</td>\n",
       "      <td>Netflix,  tvN</td>\n",
       "      <td>Thursday</td>\n",
       "      <td>12</td>\n",
       "      <td>1 hr. 40 min.</td>\n",
       "      <td>15+ - Teens 15 or older</td>\n",
       "      <td>9.1</td>\n",
       "      <td>Everyday is extraordinary for five doctors and...</td>\n",
       "      <td>Friendship,  Romance,  Life,  Medical</td>\n",
       "      <td>Workplace, Strong Friendship, Best Friends, Mu...</td>\n",
       "      <td>Shin Won Ho</td>\n",
       "      <td>Lee Woo Jung</td>\n",
       "      <td>Jo Jung Suk, Yoo Yeon Seok, Jung Kyung Ho, Kim...</td>\n",
       "      <td>Egg Is Coming, CJ ENM</td>\n",
       "      <td>#4</td>\n",
       "    </tr>\n",
       "    <tr>\n",
       "      <th>4</th>\n",
       "      <td>My Mister</td>\n",
       "      <td>Mar 21, 2018 - May 17, 2018</td>\n",
       "      <td>2018</td>\n",
       "      <td>tvN</td>\n",
       "      <td>Wednesday, Thursday</td>\n",
       "      <td>16</td>\n",
       "      <td>1 hr. 17 min.</td>\n",
       "      <td>15+ - Teens 15 or older</td>\n",
       "      <td>9.1</td>\n",
       "      <td>Park Dong Hoon is a middle-aged engineer who i...</td>\n",
       "      <td>Psychological,  Life,  Drama,  Family</td>\n",
       "      <td>Age Gap, Nice Male Lead, Strong Female Lead, H...</td>\n",
       "      <td>Kim Won Suk, Kim Sang Woo</td>\n",
       "      <td>Park Hae Young</td>\n",
       "      <td>Lee Sun Kyun, IU, Park Ho San, Song Sae Byuk, ...</td>\n",
       "      <td>Chorokbaem Media</td>\n",
       "      <td>#5</td>\n",
       "    </tr>\n",
       "  </tbody>\n",
       "</table>\n",
       "</div>"
      ],
      "text/plain": [
       "                  Name                   Aired Date  Year of release  \\\n",
       "0       Move to Heaven                 May 14, 2021             2021   \n",
       "1       Flower of Evil  Jul 29, 2020 - Sep 23, 2020             2020   \n",
       "2    Hospital Playlist  Mar 12, 2020 - May 28, 2020             2020   \n",
       "3  Hospital Playlist 2  Jun 17, 2021 - Sep 16, 2021             2021   \n",
       "4            My Mister  Mar 21, 2018 - May 17, 2018             2018   \n",
       "\n",
       "  Original Network              Aired On  Number of Episodes       Duration  \\\n",
       "0          Netflix                Friday                  10        52 min.   \n",
       "1              tvN   Wednesday, Thursday                  16  1 hr. 10 min.   \n",
       "2   Netflix,  tvN               Thursday                  12  1 hr. 30 min.   \n",
       "3   Netflix,  tvN               Thursday                  12  1 hr. 40 min.   \n",
       "4              tvN   Wednesday, Thursday                  16  1 hr. 17 min.   \n",
       "\n",
       "                          Content Rating  Rating  \\\n",
       "0  18+ Restricted (violence & profanity)     9.2   \n",
       "1                15+ - Teens 15 or older     9.1   \n",
       "2                15+ - Teens 15 or older     9.1   \n",
       "3                15+ - Teens 15 or older     9.1   \n",
       "4                15+ - Teens 15 or older     9.1   \n",
       "\n",
       "                                            Synopsis  \\\n",
       "0  Geu Roo is a young autistic man. He works for ...   \n",
       "1  Although Baek Hee Sung is hiding a dark secret...   \n",
       "2  The stories of people going through their days...   \n",
       "3  Everyday is extraordinary for five doctors and...   \n",
       "4  Park Dong Hoon is a middle-aged engineer who i...   \n",
       "\n",
       "                                     Genre  \\\n",
       "0                   Life,  Drama,  Family    \n",
       "1  Thriller,  Romance,  Crime,  Melodrama    \n",
       "2   Friendship,  Romance,  Life,  Medical    \n",
       "3   Friendship,  Romance,  Life,  Medical    \n",
       "4   Psychological,  Life,  Drama,  Family    \n",
       "\n",
       "                                                Tags  \\\n",
       "0  Autism, Uncle-Nephew Relationship, Death, Sava...   \n",
       "1  Married Couple, Deception, Suspense, Family Se...   \n",
       "2  Strong Friendship, Multiple Mains, Best Friend...   \n",
       "3  Workplace, Strong Friendship, Best Friends, Mu...   \n",
       "4  Age Gap, Nice Male Lead, Strong Female Lead, H...   \n",
       "\n",
       "                     Director    Screenwriter  \\\n",
       "0                 Kim Sung Ho    Yoon Ji Ryun   \n",
       "1  Kim Chul Gyu, Yoon Jong Ho    Yoo Jung Hee   \n",
       "2                 Shin Won Ho    Lee Woo Jung   \n",
       "3                 Shin Won Ho    Lee Woo Jung   \n",
       "4   Kim Won Suk, Kim Sang Woo  Park Hae Young   \n",
       "\n",
       "                                                Cast  \\\n",
       "0  Lee Je Hoon, Tang Jun Sang, Hong Seung Hee, Ju...   \n",
       "1  Lee Joon Gi, Moon Chae Won, Jang Hee Jin, Seo ...   \n",
       "2  Jo Jung Suk, Yoo Yeon Seok, Jung Kyung Ho, Kim...   \n",
       "3  Jo Jung Suk, Yoo Yeon Seok, Jung Kyung Ho, Kim...   \n",
       "4  Lee Sun Kyun, IU, Park Ho San, Song Sae Byuk, ...   \n",
       "\n",
       "                   Production companies Rank  \n",
       "0  Page One Film, Number Three Pictures   #1  \n",
       "1                         Monster Union   #2  \n",
       "2                 Egg Is Coming, CJ ENM   #3  \n",
       "3                 Egg Is Coming, CJ ENM   #4  \n",
       "4                      Chorokbaem Media   #5  "
      ]
     },
     "execution_count": 5,
     "metadata": {},
     "output_type": "execute_result"
    }
   ],
   "source": [
    "df.head()"
   ]
  },
  {
   "cell_type": "code",
   "execution_count": 6,
   "metadata": {},
   "outputs": [],
   "source": [
    "#cleaning data by removing the # and converts to integers\n",
    "df['Rank'] = df['Rank'].str.replace('#','').astype(int)"
   ]
  },
  {
   "cell_type": "code",
   "execution_count": 7,
   "metadata": {},
   "outputs": [
    {
     "name": "stdout",
     "output_type": "stream",
     "text": [
      "<class 'pandas.core.frame.DataFrame'>\n",
      "RangeIndex: 250 entries, 0 to 249\n",
      "Data columns (total 17 columns):\n",
      " #   Column                Non-Null Count  Dtype  \n",
      "---  ------                --------------  -----  \n",
      " 0   Name                  250 non-null    object \n",
      " 1   Aired Date            250 non-null    object \n",
      " 2   Year of release       250 non-null    int64  \n",
      " 3   Original Network      250 non-null    object \n",
      " 4   Aired On              250 non-null    object \n",
      " 5   Number of Episodes    250 non-null    int64  \n",
      " 6   Duration              250 non-null    object \n",
      " 7   Content Rating        245 non-null    object \n",
      " 8   Rating                250 non-null    float64\n",
      " 9   Synopsis              250 non-null    object \n",
      " 10  Genre                 250 non-null    object \n",
      " 11  Tags                  250 non-null    object \n",
      " 12  Director              249 non-null    object \n",
      " 13  Screenwriter          249 non-null    object \n",
      " 14  Cast                  250 non-null    object \n",
      " 15  Production companies  248 non-null    object \n",
      " 16  Rank                  250 non-null    int64  \n",
      "dtypes: float64(1), int64(3), object(13)\n",
      "memory usage: 33.3+ KB\n"
     ]
    }
   ],
   "source": [
    "df.info()"
   ]
  },
  {
   "cell_type": "code",
   "execution_count": 8,
   "metadata": {},
   "outputs": [
    {
     "data": {
      "text/plain": [
       "Content Rating          5\n",
       "Production companies    2\n",
       "Screenwriter            1\n",
       "Director                1\n",
       "Rank                    0\n",
       "Number of Episodes      0\n",
       "Aired Date              0\n",
       "Year of release         0\n",
       "Original Network        0\n",
       "Aired On                0\n",
       "Rating                  0\n",
       "Duration                0\n",
       "Synopsis                0\n",
       "Genre                   0\n",
       "Tags                    0\n",
       "Cast                    0\n",
       "Name                    0\n",
       "dtype: int64"
      ]
     },
     "execution_count": 8,
     "metadata": {},
     "output_type": "execute_result"
    }
   ],
   "source": [
    "df.isnull().sum().sort_values(ascending = False)"
   ]
  },
  {
   "cell_type": "code",
   "execution_count": 9,
   "metadata": {},
   "outputs": [],
   "source": [
    "#drop missing\n",
    "df.dropna(inplace=True)"
   ]
  },
  {
   "cell_type": "code",
   "execution_count": 10,
   "metadata": {},
   "outputs": [],
   "source": [
    "#anything other than lower case az, upper AZ, numbers, and space get replaced with empty string\n",
    "def clean_name(name):\n",
    "    name = re.sub('[A-Za-z0-9]','', name)\n",
    "    return name"
   ]
  },
  {
   "cell_type": "code",
   "execution_count": 11,
   "metadata": {},
   "outputs": [],
   "source": [
    "#cleaning name\n",
    "df[\"clean_name\"] = df[\"Name\"].apply(clean_name)"
   ]
  },
  {
   "cell_type": "code",
   "execution_count": 12,
   "metadata": {},
   "outputs": [],
   "source": [
    "#extract hours and minutes from the duration column\n",
    "hours = df['Duration'].str.extract(r'(\\d+)\\s*hr').astype(float)\n",
    "minutes = df['Duration'].str.extract(r'(\\d+)\\s*min').astype(float)\n",
    "\n",
    "#convert hours and minutes to minutes\n",
    "hours = hours.fillna(0) * 60\n",
    "minutes = minutes.fillna(0)\n",
    "\n",
    "#calculate the total duration in minutes\n",
    "total_duration = hours + minutes\n",
    "\n",
    "#duration column should only be minutes now\n",
    "df['Duration'] = total_duration"
   ]
  },
  {
   "cell_type": "code",
   "execution_count": 13,
   "metadata": {},
   "outputs": [
    {
     "data": {
      "text/html": [
       "<div>\n",
       "<style scoped>\n",
       "    .dataframe tbody tr th:only-of-type {\n",
       "        vertical-align: middle;\n",
       "    }\n",
       "\n",
       "    .dataframe tbody tr th {\n",
       "        vertical-align: top;\n",
       "    }\n",
       "\n",
       "    .dataframe thead th {\n",
       "        text-align: right;\n",
       "    }\n",
       "</style>\n",
       "<table border=\"1\" class=\"dataframe\">\n",
       "  <thead>\n",
       "    <tr style=\"text-align: right;\">\n",
       "      <th></th>\n",
       "      <th>Name</th>\n",
       "      <th>Aired Date</th>\n",
       "      <th>Year of release</th>\n",
       "      <th>Original Network</th>\n",
       "      <th>Aired On</th>\n",
       "      <th>Number of Episodes</th>\n",
       "      <th>Duration</th>\n",
       "      <th>Content Rating</th>\n",
       "      <th>Rating</th>\n",
       "      <th>Synopsis</th>\n",
       "      <th>Genre</th>\n",
       "      <th>Tags</th>\n",
       "      <th>Director</th>\n",
       "      <th>Screenwriter</th>\n",
       "      <th>Cast</th>\n",
       "      <th>Production companies</th>\n",
       "      <th>Rank</th>\n",
       "      <th>clean_name</th>\n",
       "    </tr>\n",
       "  </thead>\n",
       "  <tbody>\n",
       "    <tr>\n",
       "      <th>0</th>\n",
       "      <td>Move to Heaven</td>\n",
       "      <td>May 14, 2021</td>\n",
       "      <td>2021</td>\n",
       "      <td>Netflix</td>\n",
       "      <td>Friday</td>\n",
       "      <td>10</td>\n",
       "      <td>52.0</td>\n",
       "      <td>18+ Restricted (violence &amp; profanity)</td>\n",
       "      <td>9.2</td>\n",
       "      <td>Geu Roo is a young autistic man. He works for ...</td>\n",
       "      <td>Life,  Drama,  Family</td>\n",
       "      <td>Autism, Uncle-Nephew Relationship, Death, Sava...</td>\n",
       "      <td>Kim Sung Ho</td>\n",
       "      <td>Yoon Ji Ryun</td>\n",
       "      <td>Lee Je Hoon, Tang Jun Sang, Hong Seung Hee, Ju...</td>\n",
       "      <td>Page One Film, Number Three Pictures</td>\n",
       "      <td>1</td>\n",
       "      <td></td>\n",
       "    </tr>\n",
       "    <tr>\n",
       "      <th>1</th>\n",
       "      <td>Flower of Evil</td>\n",
       "      <td>Jul 29, 2020 - Sep 23, 2020</td>\n",
       "      <td>2020</td>\n",
       "      <td>tvN</td>\n",
       "      <td>Wednesday, Thursday</td>\n",
       "      <td>16</td>\n",
       "      <td>70.0</td>\n",
       "      <td>15+ - Teens 15 or older</td>\n",
       "      <td>9.1</td>\n",
       "      <td>Although Baek Hee Sung is hiding a dark secret...</td>\n",
       "      <td>Thriller,  Romance,  Crime,  Melodrama</td>\n",
       "      <td>Married Couple, Deception, Suspense, Family Se...</td>\n",
       "      <td>Kim Chul Gyu, Yoon Jong Ho</td>\n",
       "      <td>Yoo Jung Hee</td>\n",
       "      <td>Lee Joon Gi, Moon Chae Won, Jang Hee Jin, Seo ...</td>\n",
       "      <td>Monster Union</td>\n",
       "      <td>2</td>\n",
       "      <td></td>\n",
       "    </tr>\n",
       "    <tr>\n",
       "      <th>2</th>\n",
       "      <td>Hospital Playlist</td>\n",
       "      <td>Mar 12, 2020 - May 28, 2020</td>\n",
       "      <td>2020</td>\n",
       "      <td>Netflix,  tvN</td>\n",
       "      <td>Thursday</td>\n",
       "      <td>12</td>\n",
       "      <td>90.0</td>\n",
       "      <td>15+ - Teens 15 or older</td>\n",
       "      <td>9.1</td>\n",
       "      <td>The stories of people going through their days...</td>\n",
       "      <td>Friendship,  Romance,  Life,  Medical</td>\n",
       "      <td>Strong Friendship, Multiple Mains, Best Friend...</td>\n",
       "      <td>Shin Won Ho</td>\n",
       "      <td>Lee Woo Jung</td>\n",
       "      <td>Jo Jung Suk, Yoo Yeon Seok, Jung Kyung Ho, Kim...</td>\n",
       "      <td>Egg Is Coming, CJ ENM</td>\n",
       "      <td>3</td>\n",
       "      <td></td>\n",
       "    </tr>\n",
       "    <tr>\n",
       "      <th>3</th>\n",
       "      <td>Hospital Playlist 2</td>\n",
       "      <td>Jun 17, 2021 - Sep 16, 2021</td>\n",
       "      <td>2021</td>\n",
       "      <td>Netflix,  tvN</td>\n",
       "      <td>Thursday</td>\n",
       "      <td>12</td>\n",
       "      <td>100.0</td>\n",
       "      <td>15+ - Teens 15 or older</td>\n",
       "      <td>9.1</td>\n",
       "      <td>Everyday is extraordinary for five doctors and...</td>\n",
       "      <td>Friendship,  Romance,  Life,  Medical</td>\n",
       "      <td>Workplace, Strong Friendship, Best Friends, Mu...</td>\n",
       "      <td>Shin Won Ho</td>\n",
       "      <td>Lee Woo Jung</td>\n",
       "      <td>Jo Jung Suk, Yoo Yeon Seok, Jung Kyung Ho, Kim...</td>\n",
       "      <td>Egg Is Coming, CJ ENM</td>\n",
       "      <td>4</td>\n",
       "      <td></td>\n",
       "    </tr>\n",
       "    <tr>\n",
       "      <th>4</th>\n",
       "      <td>My Mister</td>\n",
       "      <td>Mar 21, 2018 - May 17, 2018</td>\n",
       "      <td>2018</td>\n",
       "      <td>tvN</td>\n",
       "      <td>Wednesday, Thursday</td>\n",
       "      <td>16</td>\n",
       "      <td>77.0</td>\n",
       "      <td>15+ - Teens 15 or older</td>\n",
       "      <td>9.1</td>\n",
       "      <td>Park Dong Hoon is a middle-aged engineer who i...</td>\n",
       "      <td>Psychological,  Life,  Drama,  Family</td>\n",
       "      <td>Age Gap, Nice Male Lead, Strong Female Lead, H...</td>\n",
       "      <td>Kim Won Suk, Kim Sang Woo</td>\n",
       "      <td>Park Hae Young</td>\n",
       "      <td>Lee Sun Kyun, IU, Park Ho San, Song Sae Byuk, ...</td>\n",
       "      <td>Chorokbaem Media</td>\n",
       "      <td>5</td>\n",
       "      <td></td>\n",
       "    </tr>\n",
       "    <tr>\n",
       "      <th>5</th>\n",
       "      <td>Reply 1988</td>\n",
       "      <td>Nov  6, 2015 - Jan 16, 2016</td>\n",
       "      <td>2015</td>\n",
       "      <td>tvN</td>\n",
       "      <td>Friday, Saturday</td>\n",
       "      <td>20</td>\n",
       "      <td>100.0</td>\n",
       "      <td>15+ - Teens 15 or older</td>\n",
       "      <td>9.1</td>\n",
       "      <td>Five childhood friends, who all live in the sa...</td>\n",
       "      <td>Comedy,  Romance,  Youth,  Family</td>\n",
       "      <td>Neighbors, Slice Of Life, Childhood Friends, M...</td>\n",
       "      <td>Shin Won Ho, Yoo Hak Chan</td>\n",
       "      <td>Lee Woo Jung</td>\n",
       "      <td>Lee Hye Ri, Go Kyung Pyo, Ryu Joon Yeol, Park ...</td>\n",
       "      <td>CJ ENM</td>\n",
       "      <td>6</td>\n",
       "      <td></td>\n",
       "    </tr>\n",
       "    <tr>\n",
       "      <th>6</th>\n",
       "      <td>Weak Hero Class 1</td>\n",
       "      <td>Nov 18, 2022</td>\n",
       "      <td>2022</td>\n",
       "      <td>Wavve</td>\n",
       "      <td>Friday</td>\n",
       "      <td>8</td>\n",
       "      <td>40.0</td>\n",
       "      <td>18+ Restricted (violence &amp; profanity)</td>\n",
       "      <td>9.1</td>\n",
       "      <td>Yeon Shi Eun is a model student who ranks at t...</td>\n",
       "      <td>Action, Youth, Drama\\r</td>\n",
       "      <td>Bromance, Smart Male Lead, Violence, School Bu...</td>\n",
       "      <td>You Su Min</td>\n",
       "      <td>Jun Hee Han</td>\n",
       "      <td>Park Ji Hoon, Choi Hyun Wook, Hong Kyung, Kim ...</td>\n",
       "      <td>PlayList Global</td>\n",
       "      <td>7</td>\n",
       "      <td></td>\n",
       "    </tr>\n",
       "    <tr>\n",
       "      <th>7</th>\n",
       "      <td>Prison Playbook</td>\n",
       "      <td>Nov 22, 2017 - Jan 18, 2018</td>\n",
       "      <td>2017</td>\n",
       "      <td>Netflix,  tvN</td>\n",
       "      <td>Wednesday, Thursday</td>\n",
       "      <td>16</td>\n",
       "      <td>92.0</td>\n",
       "      <td>15+ - Teens 15 or older</td>\n",
       "      <td>9.1</td>\n",
       "      <td>Kim Je Hyuk, a famous baseball player, is arre...</td>\n",
       "      <td>Comedy,  Crime,  Life,  Drama</td>\n",
       "      <td>Prison, Bromance, Wrongfully Accused, Life Les...</td>\n",
       "      <td>Shin Won Ho</td>\n",
       "      <td>Jung Bo Hoon, Lee Woo Jung</td>\n",
       "      <td>Park Hae Soo, Jung Kyung Ho, Krystal Jung, Im ...</td>\n",
       "      <td>tvN</td>\n",
       "      <td>8</td>\n",
       "      <td></td>\n",
       "    </tr>\n",
       "    <tr>\n",
       "      <th>8</th>\n",
       "      <td>Alchemy of Souls</td>\n",
       "      <td>Jun 18, 2022 - Aug 28, 2022</td>\n",
       "      <td>2022</td>\n",
       "      <td>Netflix, tvN</td>\n",
       "      <td>Saturday, Sunday</td>\n",
       "      <td>20</td>\n",
       "      <td>80.0</td>\n",
       "      <td>15+ - Teens 15 or older</td>\n",
       "      <td>9.0</td>\n",
       "      <td>Set in a fictional country called Daeho that d...</td>\n",
       "      <td>Action, Historical, Romance, Fantasy</td>\n",
       "      <td>Magical Power, Supernatural, Transmigration, S...</td>\n",
       "      <td>Park Joon Hwa</td>\n",
       "      <td>Hong Jung Eun, Hong Mi Ran</td>\n",
       "      <td>Lee Jae Wook, Jung So Min, Hwang Hyun Min, Shi...</td>\n",
       "      <td>Studio Dragon, High Quality</td>\n",
       "      <td>9</td>\n",
       "      <td></td>\n",
       "    </tr>\n",
       "    <tr>\n",
       "      <th>9</th>\n",
       "      <td>Extraordinary Attorney Woo</td>\n",
       "      <td>Jun 29, 2022 - Aug 18, 2022</td>\n",
       "      <td>2022</td>\n",
       "      <td>ENA, Netflix</td>\n",
       "      <td>Wednesday, Thursday</td>\n",
       "      <td>16</td>\n",
       "      <td>77.0</td>\n",
       "      <td>15+ - Teens 15 or older</td>\n",
       "      <td>9.0</td>\n",
       "      <td>Diagnosed with autism spectrum disorder, 27-ye...</td>\n",
       "      <td>Law, Romance, Life, Drama</td>\n",
       "      <td>Autistic Female Lead, Autism, Attorney Female...</td>\n",
       "      <td>Yoo In Shik</td>\n",
       "      <td>Moon Ji Won</td>\n",
       "      <td>Park Eun Bin, Kang Tae Oh, Kang Ki Young, Jeon...</td>\n",
       "      <td>AStory, KT Studio Genie, Nangman Crew</td>\n",
       "      <td>10</td>\n",
       "      <td></td>\n",
       "    </tr>\n",
       "  </tbody>\n",
       "</table>\n",
       "</div>"
      ],
      "text/plain": [
       "                         Name                   Aired Date  Year of release  \\\n",
       "0              Move to Heaven                 May 14, 2021             2021   \n",
       "1              Flower of Evil  Jul 29, 2020 - Sep 23, 2020             2020   \n",
       "2           Hospital Playlist  Mar 12, 2020 - May 28, 2020             2020   \n",
       "3         Hospital Playlist 2  Jun 17, 2021 - Sep 16, 2021             2021   \n",
       "4                   My Mister  Mar 21, 2018 - May 17, 2018             2018   \n",
       "5                  Reply 1988  Nov  6, 2015 - Jan 16, 2016             2015   \n",
       "6           Weak Hero Class 1                 Nov 18, 2022             2022   \n",
       "7             Prison Playbook  Nov 22, 2017 - Jan 18, 2018             2017   \n",
       "8            Alchemy of Souls  Jun 18, 2022 - Aug 28, 2022             2022   \n",
       "9  Extraordinary Attorney Woo  Jun 29, 2022 - Aug 18, 2022             2022   \n",
       "\n",
       "  Original Network              Aired On  Number of Episodes  Duration  \\\n",
       "0          Netflix                Friday                  10      52.0   \n",
       "1              tvN   Wednesday, Thursday                  16      70.0   \n",
       "2   Netflix,  tvN               Thursday                  12      90.0   \n",
       "3   Netflix,  tvN               Thursday                  12     100.0   \n",
       "4              tvN   Wednesday, Thursday                  16      77.0   \n",
       "5              tvN      Friday, Saturday                  20     100.0   \n",
       "6            Wavve                Friday                   8      40.0   \n",
       "7   Netflix,  tvN    Wednesday, Thursday                  16      92.0   \n",
       "8     Netflix, tvN      Saturday, Sunday                  20      80.0   \n",
       "9     ENA, Netflix   Wednesday, Thursday                  16      77.0   \n",
       "\n",
       "                          Content Rating  Rating  \\\n",
       "0  18+ Restricted (violence & profanity)     9.2   \n",
       "1                15+ - Teens 15 or older     9.1   \n",
       "2                15+ - Teens 15 or older     9.1   \n",
       "3                15+ - Teens 15 or older     9.1   \n",
       "4                15+ - Teens 15 or older     9.1   \n",
       "5                15+ - Teens 15 or older     9.1   \n",
       "6  18+ Restricted (violence & profanity)     9.1   \n",
       "7                15+ - Teens 15 or older     9.1   \n",
       "8                15+ - Teens 15 or older     9.0   \n",
       "9                15+ - Teens 15 or older     9.0   \n",
       "\n",
       "                                            Synopsis  \\\n",
       "0  Geu Roo is a young autistic man. He works for ...   \n",
       "1  Although Baek Hee Sung is hiding a dark secret...   \n",
       "2  The stories of people going through their days...   \n",
       "3  Everyday is extraordinary for five doctors and...   \n",
       "4  Park Dong Hoon is a middle-aged engineer who i...   \n",
       "5  Five childhood friends, who all live in the sa...   \n",
       "6  Yeon Shi Eun is a model student who ranks at t...   \n",
       "7  Kim Je Hyuk, a famous baseball player, is arre...   \n",
       "8  Set in a fictional country called Daeho that d...   \n",
       "9  Diagnosed with autism spectrum disorder, 27-ye...   \n",
       "\n",
       "                                     Genre  \\\n",
       "0                   Life,  Drama,  Family    \n",
       "1  Thriller,  Romance,  Crime,  Melodrama    \n",
       "2   Friendship,  Romance,  Life,  Medical    \n",
       "3   Friendship,  Romance,  Life,  Medical    \n",
       "4   Psychological,  Life,  Drama,  Family    \n",
       "5       Comedy,  Romance,  Youth,  Family    \n",
       "6                   Action, Youth, Drama\\r   \n",
       "7           Comedy,  Crime,  Life,  Drama    \n",
       "8    Action, Historical, Romance, Fantasy    \n",
       "9               Law, Romance, Life, Drama    \n",
       "\n",
       "                                                Tags  \\\n",
       "0  Autism, Uncle-Nephew Relationship, Death, Sava...   \n",
       "1  Married Couple, Deception, Suspense, Family Se...   \n",
       "2  Strong Friendship, Multiple Mains, Best Friend...   \n",
       "3  Workplace, Strong Friendship, Best Friends, Mu...   \n",
       "4  Age Gap, Nice Male Lead, Strong Female Lead, H...   \n",
       "5  Neighbors, Slice Of Life, Childhood Friends, M...   \n",
       "6  Bromance, Smart Male Lead, Violence, School Bu...   \n",
       "7  Prison, Bromance, Wrongfully Accused, Life Les...   \n",
       "8  Magical Power, Supernatural, Transmigration, S...   \n",
       "9   Autistic Female Lead, Autism, Attorney Female...   \n",
       "\n",
       "                     Director                Screenwriter  \\\n",
       "0                 Kim Sung Ho                Yoon Ji Ryun   \n",
       "1  Kim Chul Gyu, Yoon Jong Ho                Yoo Jung Hee   \n",
       "2                 Shin Won Ho                Lee Woo Jung   \n",
       "3                 Shin Won Ho                Lee Woo Jung   \n",
       "4   Kim Won Suk, Kim Sang Woo              Park Hae Young   \n",
       "5   Shin Won Ho, Yoo Hak Chan                Lee Woo Jung   \n",
       "6                  You Su Min                 Jun Hee Han   \n",
       "7                 Shin Won Ho  Jung Bo Hoon, Lee Woo Jung   \n",
       "8               Park Joon Hwa  Hong Jung Eun, Hong Mi Ran   \n",
       "9                 Yoo In Shik                 Moon Ji Won   \n",
       "\n",
       "                                                Cast  \\\n",
       "0  Lee Je Hoon, Tang Jun Sang, Hong Seung Hee, Ju...   \n",
       "1  Lee Joon Gi, Moon Chae Won, Jang Hee Jin, Seo ...   \n",
       "2  Jo Jung Suk, Yoo Yeon Seok, Jung Kyung Ho, Kim...   \n",
       "3  Jo Jung Suk, Yoo Yeon Seok, Jung Kyung Ho, Kim...   \n",
       "4  Lee Sun Kyun, IU, Park Ho San, Song Sae Byuk, ...   \n",
       "5  Lee Hye Ri, Go Kyung Pyo, Ryu Joon Yeol, Park ...   \n",
       "6  Park Ji Hoon, Choi Hyun Wook, Hong Kyung, Kim ...   \n",
       "7  Park Hae Soo, Jung Kyung Ho, Krystal Jung, Im ...   \n",
       "8  Lee Jae Wook, Jung So Min, Hwang Hyun Min, Shi...   \n",
       "9  Park Eun Bin, Kang Tae Oh, Kang Ki Young, Jeon...   \n",
       "\n",
       "                    Production companies  Rank clean_name  \n",
       "0   Page One Film, Number Three Pictures     1             \n",
       "1                          Monster Union     2             \n",
       "2                  Egg Is Coming, CJ ENM     3             \n",
       "3                  Egg Is Coming, CJ ENM     4             \n",
       "4                       Chorokbaem Media     5             \n",
       "5                                 CJ ENM     6             \n",
       "6                        PlayList Global     7             \n",
       "7                                    tvN     8             \n",
       "8            Studio Dragon, High Quality     9             \n",
       "9  AStory, KT Studio Genie, Nangman Crew    10             "
      ]
     },
     "execution_count": 13,
     "metadata": {},
     "output_type": "execute_result"
    }
   ],
   "source": [
    "df.head(10)"
   ]
  },
  {
   "cell_type": "code",
   "execution_count": 14,
   "metadata": {},
   "outputs": [],
   "source": [
    "#extract numerical age from content rating column\n",
    "df['Age Rating'] = df['Content Rating'].str.extract(r'(\\d+)').astype(float)"
   ]
  },
  {
   "cell_type": "code",
   "execution_count": 15,
   "metadata": {},
   "outputs": [
    {
     "data": {
      "text/html": [
       "<div>\n",
       "<style scoped>\n",
       "    .dataframe tbody tr th:only-of-type {\n",
       "        vertical-align: middle;\n",
       "    }\n",
       "\n",
       "    .dataframe tbody tr th {\n",
       "        vertical-align: top;\n",
       "    }\n",
       "\n",
       "    .dataframe thead th {\n",
       "        text-align: right;\n",
       "    }\n",
       "</style>\n",
       "<table border=\"1\" class=\"dataframe\">\n",
       "  <thead>\n",
       "    <tr style=\"text-align: right;\">\n",
       "      <th></th>\n",
       "      <th>Name</th>\n",
       "      <th>Aired Date</th>\n",
       "      <th>Year of release</th>\n",
       "      <th>Original Network</th>\n",
       "      <th>Aired On</th>\n",
       "      <th>Number of Episodes</th>\n",
       "      <th>Duration</th>\n",
       "      <th>Content Rating</th>\n",
       "      <th>Rating</th>\n",
       "      <th>Synopsis</th>\n",
       "      <th>Genre</th>\n",
       "      <th>Tags</th>\n",
       "      <th>Director</th>\n",
       "      <th>Screenwriter</th>\n",
       "      <th>Cast</th>\n",
       "      <th>Production companies</th>\n",
       "      <th>Rank</th>\n",
       "      <th>clean_name</th>\n",
       "      <th>Age Rating</th>\n",
       "    </tr>\n",
       "  </thead>\n",
       "  <tbody>\n",
       "    <tr>\n",
       "      <th>0</th>\n",
       "      <td>Move to Heaven</td>\n",
       "      <td>May 14, 2021</td>\n",
       "      <td>2021</td>\n",
       "      <td>Netflix</td>\n",
       "      <td>Friday</td>\n",
       "      <td>10</td>\n",
       "      <td>52.0</td>\n",
       "      <td>18+ Restricted (violence &amp; profanity)</td>\n",
       "      <td>9.2</td>\n",
       "      <td>Geu Roo is a young autistic man. He works for ...</td>\n",
       "      <td>Life,  Drama,  Family</td>\n",
       "      <td>Autism, Uncle-Nephew Relationship, Death, Sava...</td>\n",
       "      <td>Kim Sung Ho</td>\n",
       "      <td>Yoon Ji Ryun</td>\n",
       "      <td>Lee Je Hoon, Tang Jun Sang, Hong Seung Hee, Ju...</td>\n",
       "      <td>Page One Film, Number Three Pictures</td>\n",
       "      <td>1</td>\n",
       "      <td></td>\n",
       "      <td>18.0</td>\n",
       "    </tr>\n",
       "    <tr>\n",
       "      <th>1</th>\n",
       "      <td>Flower of Evil</td>\n",
       "      <td>Jul 29, 2020 - Sep 23, 2020</td>\n",
       "      <td>2020</td>\n",
       "      <td>tvN</td>\n",
       "      <td>Wednesday, Thursday</td>\n",
       "      <td>16</td>\n",
       "      <td>70.0</td>\n",
       "      <td>15+ - Teens 15 or older</td>\n",
       "      <td>9.1</td>\n",
       "      <td>Although Baek Hee Sung is hiding a dark secret...</td>\n",
       "      <td>Thriller,  Romance,  Crime,  Melodrama</td>\n",
       "      <td>Married Couple, Deception, Suspense, Family Se...</td>\n",
       "      <td>Kim Chul Gyu, Yoon Jong Ho</td>\n",
       "      <td>Yoo Jung Hee</td>\n",
       "      <td>Lee Joon Gi, Moon Chae Won, Jang Hee Jin, Seo ...</td>\n",
       "      <td>Monster Union</td>\n",
       "      <td>2</td>\n",
       "      <td></td>\n",
       "      <td>15.0</td>\n",
       "    </tr>\n",
       "    <tr>\n",
       "      <th>2</th>\n",
       "      <td>Hospital Playlist</td>\n",
       "      <td>Mar 12, 2020 - May 28, 2020</td>\n",
       "      <td>2020</td>\n",
       "      <td>Netflix,  tvN</td>\n",
       "      <td>Thursday</td>\n",
       "      <td>12</td>\n",
       "      <td>90.0</td>\n",
       "      <td>15+ - Teens 15 or older</td>\n",
       "      <td>9.1</td>\n",
       "      <td>The stories of people going through their days...</td>\n",
       "      <td>Friendship,  Romance,  Life,  Medical</td>\n",
       "      <td>Strong Friendship, Multiple Mains, Best Friend...</td>\n",
       "      <td>Shin Won Ho</td>\n",
       "      <td>Lee Woo Jung</td>\n",
       "      <td>Jo Jung Suk, Yoo Yeon Seok, Jung Kyung Ho, Kim...</td>\n",
       "      <td>Egg Is Coming, CJ ENM</td>\n",
       "      <td>3</td>\n",
       "      <td></td>\n",
       "      <td>15.0</td>\n",
       "    </tr>\n",
       "    <tr>\n",
       "      <th>3</th>\n",
       "      <td>Hospital Playlist 2</td>\n",
       "      <td>Jun 17, 2021 - Sep 16, 2021</td>\n",
       "      <td>2021</td>\n",
       "      <td>Netflix,  tvN</td>\n",
       "      <td>Thursday</td>\n",
       "      <td>12</td>\n",
       "      <td>100.0</td>\n",
       "      <td>15+ - Teens 15 or older</td>\n",
       "      <td>9.1</td>\n",
       "      <td>Everyday is extraordinary for five doctors and...</td>\n",
       "      <td>Friendship,  Romance,  Life,  Medical</td>\n",
       "      <td>Workplace, Strong Friendship, Best Friends, Mu...</td>\n",
       "      <td>Shin Won Ho</td>\n",
       "      <td>Lee Woo Jung</td>\n",
       "      <td>Jo Jung Suk, Yoo Yeon Seok, Jung Kyung Ho, Kim...</td>\n",
       "      <td>Egg Is Coming, CJ ENM</td>\n",
       "      <td>4</td>\n",
       "      <td></td>\n",
       "      <td>15.0</td>\n",
       "    </tr>\n",
       "    <tr>\n",
       "      <th>4</th>\n",
       "      <td>My Mister</td>\n",
       "      <td>Mar 21, 2018 - May 17, 2018</td>\n",
       "      <td>2018</td>\n",
       "      <td>tvN</td>\n",
       "      <td>Wednesday, Thursday</td>\n",
       "      <td>16</td>\n",
       "      <td>77.0</td>\n",
       "      <td>15+ - Teens 15 or older</td>\n",
       "      <td>9.1</td>\n",
       "      <td>Park Dong Hoon is a middle-aged engineer who i...</td>\n",
       "      <td>Psychological,  Life,  Drama,  Family</td>\n",
       "      <td>Age Gap, Nice Male Lead, Strong Female Lead, H...</td>\n",
       "      <td>Kim Won Suk, Kim Sang Woo</td>\n",
       "      <td>Park Hae Young</td>\n",
       "      <td>Lee Sun Kyun, IU, Park Ho San, Song Sae Byuk, ...</td>\n",
       "      <td>Chorokbaem Media</td>\n",
       "      <td>5</td>\n",
       "      <td></td>\n",
       "      <td>15.0</td>\n",
       "    </tr>\n",
       "  </tbody>\n",
       "</table>\n",
       "</div>"
      ],
      "text/plain": [
       "                  Name                   Aired Date  Year of release  \\\n",
       "0       Move to Heaven                 May 14, 2021             2021   \n",
       "1       Flower of Evil  Jul 29, 2020 - Sep 23, 2020             2020   \n",
       "2    Hospital Playlist  Mar 12, 2020 - May 28, 2020             2020   \n",
       "3  Hospital Playlist 2  Jun 17, 2021 - Sep 16, 2021             2021   \n",
       "4            My Mister  Mar 21, 2018 - May 17, 2018             2018   \n",
       "\n",
       "  Original Network              Aired On  Number of Episodes  Duration  \\\n",
       "0          Netflix                Friday                  10      52.0   \n",
       "1              tvN   Wednesday, Thursday                  16      70.0   \n",
       "2   Netflix,  tvN               Thursday                  12      90.0   \n",
       "3   Netflix,  tvN               Thursday                  12     100.0   \n",
       "4              tvN   Wednesday, Thursday                  16      77.0   \n",
       "\n",
       "                          Content Rating  Rating  \\\n",
       "0  18+ Restricted (violence & profanity)     9.2   \n",
       "1                15+ - Teens 15 or older     9.1   \n",
       "2                15+ - Teens 15 or older     9.1   \n",
       "3                15+ - Teens 15 or older     9.1   \n",
       "4                15+ - Teens 15 or older     9.1   \n",
       "\n",
       "                                            Synopsis  \\\n",
       "0  Geu Roo is a young autistic man. He works for ...   \n",
       "1  Although Baek Hee Sung is hiding a dark secret...   \n",
       "2  The stories of people going through their days...   \n",
       "3  Everyday is extraordinary for five doctors and...   \n",
       "4  Park Dong Hoon is a middle-aged engineer who i...   \n",
       "\n",
       "                                     Genre  \\\n",
       "0                   Life,  Drama,  Family    \n",
       "1  Thriller,  Romance,  Crime,  Melodrama    \n",
       "2   Friendship,  Romance,  Life,  Medical    \n",
       "3   Friendship,  Romance,  Life,  Medical    \n",
       "4   Psychological,  Life,  Drama,  Family    \n",
       "\n",
       "                                                Tags  \\\n",
       "0  Autism, Uncle-Nephew Relationship, Death, Sava...   \n",
       "1  Married Couple, Deception, Suspense, Family Se...   \n",
       "2  Strong Friendship, Multiple Mains, Best Friend...   \n",
       "3  Workplace, Strong Friendship, Best Friends, Mu...   \n",
       "4  Age Gap, Nice Male Lead, Strong Female Lead, H...   \n",
       "\n",
       "                     Director    Screenwriter  \\\n",
       "0                 Kim Sung Ho    Yoon Ji Ryun   \n",
       "1  Kim Chul Gyu, Yoon Jong Ho    Yoo Jung Hee   \n",
       "2                 Shin Won Ho    Lee Woo Jung   \n",
       "3                 Shin Won Ho    Lee Woo Jung   \n",
       "4   Kim Won Suk, Kim Sang Woo  Park Hae Young   \n",
       "\n",
       "                                                Cast  \\\n",
       "0  Lee Je Hoon, Tang Jun Sang, Hong Seung Hee, Ju...   \n",
       "1  Lee Joon Gi, Moon Chae Won, Jang Hee Jin, Seo ...   \n",
       "2  Jo Jung Suk, Yoo Yeon Seok, Jung Kyung Ho, Kim...   \n",
       "3  Jo Jung Suk, Yoo Yeon Seok, Jung Kyung Ho, Kim...   \n",
       "4  Lee Sun Kyun, IU, Park Ho San, Song Sae Byuk, ...   \n",
       "\n",
       "                   Production companies  Rank clean_name  Age Rating  \n",
       "0  Page One Film, Number Three Pictures     1                   18.0  \n",
       "1                         Monster Union     2                   15.0  \n",
       "2                 Egg Is Coming, CJ ENM     3                   15.0  \n",
       "3                 Egg Is Coming, CJ ENM     4                   15.0  \n",
       "4                      Chorokbaem Media     5                   15.0  "
      ]
     },
     "execution_count": 15,
     "metadata": {},
     "output_type": "execute_result"
    }
   ],
   "source": [
    "#new column of age rating only has number\n",
    "df.head()"
   ]
  },
  {
   "cell_type": "code",
   "execution_count": 16,
   "metadata": {},
   "outputs": [],
   "source": [
    "#creating New DataFrame with columns i think are most important\n",
    "ndf = df[['Name', 'Year of release', 'Number of Episodes', 'Duration', 'Age Rating', 'Rating', 'Synopsis', 'Genre', 'Tags', 'Cast', 'Rank']] "
   ]
  },
  {
   "cell_type": "code",
   "execution_count": 17,
   "metadata": {},
   "outputs": [
    {
     "data": {
      "text/html": [
       "<div>\n",
       "<style scoped>\n",
       "    .dataframe tbody tr th:only-of-type {\n",
       "        vertical-align: middle;\n",
       "    }\n",
       "\n",
       "    .dataframe tbody tr th {\n",
       "        vertical-align: top;\n",
       "    }\n",
       "\n",
       "    .dataframe thead th {\n",
       "        text-align: right;\n",
       "    }\n",
       "</style>\n",
       "<table border=\"1\" class=\"dataframe\">\n",
       "  <thead>\n",
       "    <tr style=\"text-align: right;\">\n",
       "      <th></th>\n",
       "      <th>Name</th>\n",
       "      <th>Year of release</th>\n",
       "      <th>Number of Episodes</th>\n",
       "      <th>Duration</th>\n",
       "      <th>Age Rating</th>\n",
       "      <th>Rating</th>\n",
       "      <th>Synopsis</th>\n",
       "      <th>Genre</th>\n",
       "      <th>Tags</th>\n",
       "      <th>Cast</th>\n",
       "      <th>Rank</th>\n",
       "    </tr>\n",
       "  </thead>\n",
       "  <tbody>\n",
       "    <tr>\n",
       "      <th>0</th>\n",
       "      <td>Move to Heaven</td>\n",
       "      <td>2021</td>\n",
       "      <td>10</td>\n",
       "      <td>52.0</td>\n",
       "      <td>18.0</td>\n",
       "      <td>9.2</td>\n",
       "      <td>Geu Roo is a young autistic man. He works for ...</td>\n",
       "      <td>Life,  Drama,  Family</td>\n",
       "      <td>Autism, Uncle-Nephew Relationship, Death, Sava...</td>\n",
       "      <td>Lee Je Hoon, Tang Jun Sang, Hong Seung Hee, Ju...</td>\n",
       "      <td>1</td>\n",
       "    </tr>\n",
       "    <tr>\n",
       "      <th>1</th>\n",
       "      <td>Flower of Evil</td>\n",
       "      <td>2020</td>\n",
       "      <td>16</td>\n",
       "      <td>70.0</td>\n",
       "      <td>15.0</td>\n",
       "      <td>9.1</td>\n",
       "      <td>Although Baek Hee Sung is hiding a dark secret...</td>\n",
       "      <td>Thriller,  Romance,  Crime,  Melodrama</td>\n",
       "      <td>Married Couple, Deception, Suspense, Family Se...</td>\n",
       "      <td>Lee Joon Gi, Moon Chae Won, Jang Hee Jin, Seo ...</td>\n",
       "      <td>2</td>\n",
       "    </tr>\n",
       "    <tr>\n",
       "      <th>2</th>\n",
       "      <td>Hospital Playlist</td>\n",
       "      <td>2020</td>\n",
       "      <td>12</td>\n",
       "      <td>90.0</td>\n",
       "      <td>15.0</td>\n",
       "      <td>9.1</td>\n",
       "      <td>The stories of people going through their days...</td>\n",
       "      <td>Friendship,  Romance,  Life,  Medical</td>\n",
       "      <td>Strong Friendship, Multiple Mains, Best Friend...</td>\n",
       "      <td>Jo Jung Suk, Yoo Yeon Seok, Jung Kyung Ho, Kim...</td>\n",
       "      <td>3</td>\n",
       "    </tr>\n",
       "    <tr>\n",
       "      <th>3</th>\n",
       "      <td>Hospital Playlist 2</td>\n",
       "      <td>2021</td>\n",
       "      <td>12</td>\n",
       "      <td>100.0</td>\n",
       "      <td>15.0</td>\n",
       "      <td>9.1</td>\n",
       "      <td>Everyday is extraordinary for five doctors and...</td>\n",
       "      <td>Friendship,  Romance,  Life,  Medical</td>\n",
       "      <td>Workplace, Strong Friendship, Best Friends, Mu...</td>\n",
       "      <td>Jo Jung Suk, Yoo Yeon Seok, Jung Kyung Ho, Kim...</td>\n",
       "      <td>4</td>\n",
       "    </tr>\n",
       "    <tr>\n",
       "      <th>4</th>\n",
       "      <td>My Mister</td>\n",
       "      <td>2018</td>\n",
       "      <td>16</td>\n",
       "      <td>77.0</td>\n",
       "      <td>15.0</td>\n",
       "      <td>9.1</td>\n",
       "      <td>Park Dong Hoon is a middle-aged engineer who i...</td>\n",
       "      <td>Psychological,  Life,  Drama,  Family</td>\n",
       "      <td>Age Gap, Nice Male Lead, Strong Female Lead, H...</td>\n",
       "      <td>Lee Sun Kyun, IU, Park Ho San, Song Sae Byuk, ...</td>\n",
       "      <td>5</td>\n",
       "    </tr>\n",
       "  </tbody>\n",
       "</table>\n",
       "</div>"
      ],
      "text/plain": [
       "                  Name  Year of release  Number of Episodes  Duration  \\\n",
       "0       Move to Heaven             2021                  10      52.0   \n",
       "1       Flower of Evil             2020                  16      70.0   \n",
       "2    Hospital Playlist             2020                  12      90.0   \n",
       "3  Hospital Playlist 2             2021                  12     100.0   \n",
       "4            My Mister             2018                  16      77.0   \n",
       "\n",
       "   Age Rating  Rating                                           Synopsis  \\\n",
       "0        18.0     9.2  Geu Roo is a young autistic man. He works for ...   \n",
       "1        15.0     9.1  Although Baek Hee Sung is hiding a dark secret...   \n",
       "2        15.0     9.1  The stories of people going through their days...   \n",
       "3        15.0     9.1  Everyday is extraordinary for five doctors and...   \n",
       "4        15.0     9.1  Park Dong Hoon is a middle-aged engineer who i...   \n",
       "\n",
       "                                     Genre  \\\n",
       "0                   Life,  Drama,  Family    \n",
       "1  Thriller,  Romance,  Crime,  Melodrama    \n",
       "2   Friendship,  Romance,  Life,  Medical    \n",
       "3   Friendship,  Romance,  Life,  Medical    \n",
       "4   Psychological,  Life,  Drama,  Family    \n",
       "\n",
       "                                                Tags  \\\n",
       "0  Autism, Uncle-Nephew Relationship, Death, Sava...   \n",
       "1  Married Couple, Deception, Suspense, Family Se...   \n",
       "2  Strong Friendship, Multiple Mains, Best Friend...   \n",
       "3  Workplace, Strong Friendship, Best Friends, Mu...   \n",
       "4  Age Gap, Nice Male Lead, Strong Female Lead, H...   \n",
       "\n",
       "                                                Cast  Rank  \n",
       "0  Lee Je Hoon, Tang Jun Sang, Hong Seung Hee, Ju...     1  \n",
       "1  Lee Joon Gi, Moon Chae Won, Jang Hee Jin, Seo ...     2  \n",
       "2  Jo Jung Suk, Yoo Yeon Seok, Jung Kyung Ho, Kim...     3  \n",
       "3  Jo Jung Suk, Yoo Yeon Seok, Jung Kyung Ho, Kim...     4  \n",
       "4  Lee Sun Kyun, IU, Park Ho San, Song Sae Byuk, ...     5  "
      ]
     },
     "execution_count": 17,
     "metadata": {},
     "output_type": "execute_result"
    }
   ],
   "source": [
    "ndf.head()"
   ]
  },
  {
   "cell_type": "markdown",
   "metadata": {},
   "source": [
    "## Visualization"
   ]
  },
  {
   "cell_type": "code",
   "execution_count": 18,
   "metadata": {},
   "outputs": [
    {
     "data": {
      "image/png": "[encoded data removed]",
      "text/plain": [
       "<Figure size 720x576 with 2 Axes>"
      ]
     },
     "metadata": {
      "needs_background": "light"
     },
     "output_type": "display_data"
    }
   ],
   "source": [
    "#kdramas seem to have less episodes as the years go on\n",
    "# Set the figure size\n",
    "plt.figure(figsize=(10, 8))\n",
    "\n",
    "#Create the heatmap\n",
    "sns.heatmap(ndf.corr(), annot=True, cmap='coolwarm', linewidths=0.5, fmt=\".2f\", cbar=True)\n",
    "\n",
    "# Set plot title and axis labels\n",
    "plt.title('Correlation Heatmap', fontsize=16)\n",
    "plt.xlabel('Features', fontsize=12)\n",
    "plt.ylabel('Features', fontsize=12)\n",
    "\n",
    "# Rotate x-axis tick labels for better readability\n",
    "plt.xticks(rotation=45)\n",
    "\n",
    "# Adjust the padding between subplots\n",
    "plt.tight_layout()\n",
    "\n",
    "# Show the plot\n",
    "plt.show()"
   ]
  },
  {
   "cell_type": "markdown",
   "metadata": {},
   "source": [
    "### Release Year"
   ]
  },
  {
   "cell_type": "code",
   "execution_count": 19,
   "metadata": {
    "tags": []
   },
   "outputs": [
    {
     "data": {
      "image/png": "[encoded data removed]",
      "text/plain": [
       "<Figure size 720x432 with 1 Axes>"
      ]
     },
     "metadata": {
      "needs_background": "light"
     },
     "output_type": "display_data"
    }
   ],
   "source": [
    "# Group the data by 'Year of release' and calculate the count\n",
    "grouped_year = ndf.groupby('Year of release').size().reset_index().rename(columns={0: 'Count'})\n",
    "\n",
    "# Create the bar graph\n",
    "plt.figure(figsize=(10, 6))\n",
    "plt.bar(data=grouped_year, x='Year of release', height='Count', color='skyblue')\n",
    "\n",
    "# Plot title and axis labels\n",
    "plt.title('Korean Dramas Released by Year', fontsize=20)\n",
    "plt.xlabel('Year of Release', fontsize=15)\n",
    "plt.ylabel('Count', fontsize=15)\n",
    "\n",
    "# X-axis tick values\n",
    "years = np.arange(2002, 2023, 2)\n",
    "plt.xticks(years)\n",
    "\n",
    "# Set a grid for better readability\n",
    "plt.grid(axis='y', linestyle='--', alpha=0.7)\n",
    "\n",
    "# Add value labels above each bar\n",
    "for index, row in grouped_year.iterrows():\n",
    "    plt.text(row['Year of release'], row['Count'], str(row['Count']), ha='center', va='bottom', fontsize=10)\n",
    "\n",
    "# Adjust the padding between subplots\n",
    "plt.tight_layout()\n",
    "\n",
    "plt.show()\n"
   ]
  },
  {
   "cell_type": "markdown",
   "metadata": {},
   "source": [
    "### Number of episodes"
   ]
  },
  {
   "cell_type": "code",
   "execution_count": 20,
   "metadata": {},
   "outputs": [
    {
     "data": {
      "image/png": "[encoded data removed]",
      "text/plain": [
       "<Figure size 1440x432 with 1 Axes>"
      ]
     },
     "metadata": {
      "needs_background": "light"
     },
     "output_type": "display_data"
    }
   ],
   "source": [
    "#group data by 'Number of Episodes' and calculate count\n",
    "grouped_ep = ndf.groupby('Number of Episodes').size().reset_index().rename(columns={0: 'Count'})\n",
    "\n",
    "#bar graph\n",
    "plt.figure(figsize=(20, 6))\n",
    "plt.bar(data=grouped_ep, x='Number of Episodes', height='Count', color='skyblue')\n",
    "\n",
    "#plot title and axis labels\n",
    "plt.title('Korean Dramas Number of Episodes', fontsize=20)\n",
    "plt.xlabel('Number of Episodes', fontsize=15)\n",
    "plt.ylabel('Count', fontsize=15)\n",
    "\n",
    "#x-axis tick values\n",
    "ep = np.arange(0, ndf['Number of Episodes'].max(), 10)\n",
    "plt.xticks(ep)\n",
    "\n",
    "#grid for better readability\n",
    "plt.grid(axis='y', linestyle='--', alpha=0.7)\n",
    "\n",
    "# Add value labels above each bar\n",
    "for index, row in grouped_ep.iterrows():\n",
    "    plt.text(row['Number of Episodes'], row['Count'], str(row['Count']), ha='center', va='bottom', fontsize=10)\n",
    "    \n",
    "# Adjust the padding between subplots\n",
    "plt.tight_layout()\n",
    "\n",
    "plt.show()"
   ]
  },
  {
   "cell_type": "markdown",
   "metadata": {},
   "source": [
    "### Duration"
   ]
  },
  {
   "cell_type": "code",
   "execution_count": 21,
   "metadata": {},
   "outputs": [
    {
     "data": {
      "image/png": "[encoded data removed]",
      "text/plain": [
       "<Figure size 1080x432 with 1 Axes>"
      ]
     },
     "metadata": {
      "needs_background": "light"
     },
     "output_type": "display_data"
    }
   ],
   "source": [
    "#grouped data by 'Duration' and calculate the count\n",
    "grouped_dur = ndf.groupby('Duration').size().reset_index().rename(columns={0: 'Count'})\n",
    "\n",
    "# Bar graph\n",
    "plt.figure(figsize=(15, 6))\n",
    "plt.bar(data=grouped_dur, x='Duration', height='Count', color='lightblue')\n",
    "\n",
    "# Plot title and axis labels\n",
    "plt.title('Korean Drama Duration', fontsize=20)\n",
    "plt.xlabel('Duration (minutes)', fontsize=15)\n",
    "plt.ylabel('Count', fontsize=15)\n",
    "\n",
    "# Add value labels above each bar\n",
    "for index, row in grouped_dur.iterrows():\n",
    "    plt.text(row['Duration'], row['Count'], str(row['Count']), ha='center', va='bottom', fontsize=10)\n",
    "\n",
    "# Add grid lines\n",
    "plt.grid(axis='y', linestyle='--')\n",
    "plt.show()"
   ]
  },
  {
   "cell_type": "markdown",
   "metadata": {},
   "source": [
    "### Content Rating"
   ]
  },
  {
   "cell_type": "code",
   "execution_count": 22,
   "metadata": {},
   "outputs": [
    {
     "data": {
      "image/png": "[encoded data removed]",
      "text/plain": [
       "<Figure size 720x432 with 1 Axes>"
      ]
     },
     "metadata": {
      "needs_background": "light"
     },
     "output_type": "display_data"
    }
   ],
   "source": [
    "# Group the data by 'Content Rating' and calculate the count\n",
    "grouped_rating = df.groupby('Content Rating').size().reset_index().rename(columns={0: 'Count'})\n",
    "\n",
    "# Create the bar graph\n",
    "plt.figure(figsize=(10, 6))\n",
    "plt.bar(data=grouped_rating, x='Content Rating', height='Count', color='skyblue')\n",
    "\n",
    "# Plot title and axis labels\n",
    "plt.title('Content Rating Counts', fontsize=20)\n",
    "plt.xlabel('Content Rating', fontsize=15)\n",
    "plt.ylabel('Count', fontsize=15)\n",
    "\n",
    "# Set a grid for better readability\n",
    "plt.grid(axis='y', linestyle='--', alpha=0.7)\n",
    "\n",
    "# Add value labels above each bar\n",
    "for index, row in grouped_rating.iterrows():\n",
    "    plt.text(row['Content Rating'], row['Count'], str(row['Count']), ha='center', va='bottom', fontsize=10)\n",
    "\n",
    "# Adjust the padding between subplots\n",
    "plt.tight_layout()\n",
    "\n",
    "plt.show()\n"
   ]
  },
  {
   "cell_type": "markdown",
   "metadata": {},
   "source": [
    "### Genres"
   ]
  },
  {
   "cell_type": "code",
   "execution_count": 23,
   "metadata": {},
   "outputs": [
    {
     "data": {
      "text/html": [
       "<div>\n",
       "<style scoped>\n",
       "    .dataframe tbody tr th:only-of-type {\n",
       "        vertical-align: middle;\n",
       "    }\n",
       "\n",
       "    .dataframe tbody tr th {\n",
       "        vertical-align: top;\n",
       "    }\n",
       "\n",
       "    .dataframe thead th {\n",
       "        text-align: right;\n",
       "    }\n",
       "</style>\n",
       "<table border=\"1\" class=\"dataframe\">\n",
       "  <thead>\n",
       "    <tr style=\"text-align: right;\">\n",
       "      <th></th>\n",
       "      <th>Count</th>\n",
       "    </tr>\n",
       "  </thead>\n",
       "  <tbody>\n",
       "    <tr>\n",
       "      <th>Romance</th>\n",
       "      <td>89</td>\n",
       "    </tr>\n",
       "    <tr>\n",
       "      <th>Thriller</th>\n",
       "      <td>71</td>\n",
       "    </tr>\n",
       "    <tr>\n",
       "      <th>Drama</th>\n",
       "      <td>69</td>\n",
       "    </tr>\n",
       "    <tr>\n",
       "      <th>Comedy</th>\n",
       "      <td>62</td>\n",
       "    </tr>\n",
       "    <tr>\n",
       "      <th>Mystery</th>\n",
       "      <td>61</td>\n",
       "    </tr>\n",
       "  </tbody>\n",
       "</table>\n",
       "</div>"
      ],
      "text/plain": [
       "          Count\n",
       "Romance      89\n",
       "Thriller     71\n",
       "Drama        69\n",
       "Comedy       62\n",
       "Mystery      61"
      ]
     },
     "execution_count": 23,
     "metadata": {},
     "output_type": "execute_result"
    }
   ],
   "source": [
    "#split genres and count per genre\n",
    "genre_list = []\n",
    "for genres in ndf['Genre'].str.split(\", \"):\n",
    "    genre_list.extend(genres)\n",
    "\n",
    "genre_counts = dict(Counter(genre_list))\n",
    "\n",
    "#make df with all genres and their respective counts\n",
    "genre_df = pd.DataFrame.from_dict(genre_counts, orient='index', columns=['Count'])\n",
    "genre_df.sort_values(by='Count', ascending=False, inplace=True)\n",
    "genre_df.head()"
   ]
  },
  {
   "cell_type": "code",
   "execution_count": 24,
   "metadata": {},
   "outputs": [
    {
     "data": {
      "image/png": "[encoded data removed]",
      "text/plain": [
       "<Figure size 1440x432 with 1 Axes>"
      ]
     },
     "metadata": {
      "needs_background": "light"
     },
     "output_type": "display_data"
    }
   ],
   "source": [
    "# Create the bar graph\n",
    "plt.figure(figsize=(20, 6))\n",
    "plt.bar(data=genre_df, x=genre_df.index, height='Count', color='skyblue')\n",
    "\n",
    "# Plot title and axis labels\n",
    "plt.title('Korean Dramas Genres', fontsize=20)\n",
    "plt.xlabel('Genres', fontsize=15)\n",
    "plt.ylabel('Count', fontsize=15)\n",
    "\n",
    "# Rotate x-axis labels\n",
    "plt.xticks(rotation=90)\n",
    "\n",
    "# Set a grid for better readability\n",
    "plt.grid(axis='y', linestyle='--', alpha=0.7)\n",
    "\n",
    "# Add value labels above each bar\n",
    "for index, row in genre_df.iterrows():\n",
    "    plt.text(index, row['Count'], str(row['Count']), ha='center', va='bottom', fontsize=10)\n",
    "\n",
    "plt.show()\n"
   ]
  },
  {
   "cell_type": "markdown",
   "metadata": {},
   "source": [
    "### Tags"
   ]
  },
  {
   "cell_type": "code",
   "execution_count": 25,
   "metadata": {},
   "outputs": [
    {
     "data": {
      "text/html": [
       "<div>\n",
       "<style scoped>\n",
       "    .dataframe tbody tr th:only-of-type {\n",
       "        vertical-align: middle;\n",
       "    }\n",
       "\n",
       "    .dataframe tbody tr th {\n",
       "        vertical-align: top;\n",
       "    }\n",
       "\n",
       "    .dataframe thead th {\n",
       "        text-align: right;\n",
       "    }\n",
       "</style>\n",
       "<table border=\"1\" class=\"dataframe\">\n",
       "  <thead>\n",
       "    <tr style=\"text-align: right;\">\n",
       "      <th></th>\n",
       "      <th>Count</th>\n",
       "    </tr>\n",
       "  </thead>\n",
       "  <tbody>\n",
       "    <tr>\n",
       "      <th>Strong Female Lead</th>\n",
       "      <td>95</td>\n",
       "    </tr>\n",
       "    <tr>\n",
       "      <th>Smart Female Lead</th>\n",
       "      <td>47</td>\n",
       "    </tr>\n",
       "    <tr>\n",
       "      <th>Nice Male Lead</th>\n",
       "      <td>45</td>\n",
       "    </tr>\n",
       "    <tr>\n",
       "      <th>Smart Male Lead</th>\n",
       "      <td>45</td>\n",
       "    </tr>\n",
       "    <tr>\n",
       "      <th>Murder</th>\n",
       "      <td>41</td>\n",
       "    </tr>\n",
       "  </tbody>\n",
       "</table>\n",
       "</div>"
      ],
      "text/plain": [
       "                    Count\n",
       "Strong Female Lead     95\n",
       "Smart Female Lead      47\n",
       "Nice Male Lead         45\n",
       "Smart Male Lead        45\n",
       "Murder                 41"
      ]
     },
     "execution_count": 25,
     "metadata": {},
     "output_type": "execute_result"
    }
   ],
   "source": [
    "#split tags and count per tag like the genres\n",
    "tag_list = []\n",
    "for tag in ndf['Tags'].str.split(\", \"):\n",
    "    tag_list.extend(tag)\n",
    "\n",
    "tag_counts = dict(Counter(tag_list))\n",
    "\n",
    "# Create a DataFrame with all genres and their counts\n",
    "tag_df = pd.DataFrame.from_dict(tag_counts, orient='index', columns=['Count'])\n",
    "tag_df.sort_values(by='Count', ascending=False, inplace=True)\n",
    "tag_df.head()"
   ]
  },
  {
   "cell_type": "code",
   "execution_count": 26,
   "metadata": {},
   "outputs": [
    {
     "data": {
      "image/png": "[encoded data removed]",
      "text/plain": [
       "<Figure size 1440x288 with 1 Axes>"
      ]
     },
     "metadata": {
      "needs_background": "light"
     },
     "output_type": "display_data"
    }
   ],
   "source": [
    "#bar graph\n",
    "plt.figure(figsize=(20, 4))\n",
    "plt.bar(data=tag_df.head(20), x = tag_df.iloc[:20].index, height='Count')\n",
    "\n",
    "#plot title and axis labels\n",
    "plt.title('Korean Dramas Top 20 Tags', fontsize=20)\n",
    "plt.xlabel('Tags', fontsize=15)\n",
    "plt.ylabel('Count', fontsize=15)\n",
    "\n",
    "#rotate x-axis labels\n",
    "plt.xticks(rotation=90)\n",
    "\n",
    "plt.show()"
   ]
  },
  {
   "cell_type": "code",
   "execution_count": 27,
   "metadata": {},
   "outputs": [
    {
     "data": {
      "text/plain": [
       "(8.3, 9.2)"
      ]
     },
     "execution_count": 27,
     "metadata": {},
     "output_type": "execute_result"
    }
   ],
   "source": [
    "#lowest and highest rating scores\n",
    "ndf['Rating'].min(), ndf['Rating'].max()"
   ]
  },
  {
   "cell_type": "markdown",
   "metadata": {},
   "source": [
    "### Cast"
   ]
  },
  {
   "cell_type": "code",
   "execution_count": 28,
   "metadata": {},
   "outputs": [
    {
     "data": {
      "text/html": [
       "<div>\n",
       "<style scoped>\n",
       "    .dataframe tbody tr th:only-of-type {\n",
       "        vertical-align: middle;\n",
       "    }\n",
       "\n",
       "    .dataframe tbody tr th {\n",
       "        vertical-align: top;\n",
       "    }\n",
       "\n",
       "    .dataframe thead th {\n",
       "        text-align: right;\n",
       "    }\n",
       "</style>\n",
       "<table border=\"1\" class=\"dataframe\">\n",
       "  <thead>\n",
       "    <tr style=\"text-align: right;\">\n",
       "      <th></th>\n",
       "      <th>Appearance</th>\n",
       "    </tr>\n",
       "  </thead>\n",
       "  <tbody>\n",
       "    <tr>\n",
       "      <th>Lee Joon Hyuk</th>\n",
       "      <td>8</td>\n",
       "    </tr>\n",
       "    <tr>\n",
       "      <th>Shin Hye Sun</th>\n",
       "      <td>7</td>\n",
       "    </tr>\n",
       "    <tr>\n",
       "      <th>Ahn Bo Hyun</th>\n",
       "      <td>7</td>\n",
       "    </tr>\n",
       "    <tr>\n",
       "      <th>Lee Jong Suk</th>\n",
       "      <td>6</td>\n",
       "    </tr>\n",
       "    <tr>\n",
       "      <th>Uhm Ki Joon</th>\n",
       "      <td>6</td>\n",
       "    </tr>\n",
       "  </tbody>\n",
       "</table>\n",
       "</div>"
      ],
      "text/plain": [
       "               Appearance\n",
       "Lee Joon Hyuk           8\n",
       "Shin Hye Sun            7\n",
       "Ahn Bo Hyun             7\n",
       "Lee Jong Suk            6\n",
       "Uhm Ki Joon             6"
      ]
     },
     "execution_count": 28,
     "metadata": {},
     "output_type": "execute_result"
    }
   ],
   "source": [
    "#splitting cast members of each drama\n",
    "cast_list = list()\n",
    "\n",
    "for casts in ndf['Cast'].to_list():\n",
    "    casts = casts.split(\", \")\n",
    "    for a in casts:\n",
    "        cast_list.append(a)\n",
    "        \n",
    "#putting each individual cast member and their appearance in a df\n",
    "cast_df = pd.DataFrame.from_dict(Counter(cast_list),orient = 'index').rename(columns = {0:'Appearance'})\n",
    "cast_df.sort_values(by='Appearance',ascending = False,inplace = True)\n",
    "cast_df.head()"
   ]
  },
  {
   "cell_type": "code",
   "execution_count": 29,
   "metadata": {},
   "outputs": [
    {
     "data": {
      "image/png": "[encoded data removed]",
      "text/plain": [
       "<Figure size 1440x288 with 1 Axes>"
      ]
     },
     "metadata": {
      "needs_background": "light"
     },
     "output_type": "display_data"
    }
   ],
   "source": [
    "# Create the bar graph\n",
    "plt.figure(figsize=(20, 4))\n",
    "plt.bar(data=cast_df.head(20), x=cast_df.iloc[:20].index, height='Appearance', color='skyblue')\n",
    "\n",
    "# Plot title and axis labels\n",
    "plt.title('20 Actors Who Appeared In The Most Top KDramas', fontsize=20)\n",
    "plt.xlabel('Actors', fontsize=15)\n",
    "plt.ylabel('Count', fontsize=15)\n",
    "\n",
    "# Rotate x-axis labels\n",
    "plt.xticks(rotation=90)\n",
    "\n",
    "# Set a grid for better readability\n",
    "plt.grid(axis='y', linestyle='--', alpha=0.7)\n",
    "\n",
    "plt.show()"
   ]
  },
  {
   "cell_type": "markdown",
   "metadata": {},
   "source": [
    "## 3 Recommendation systems"
   ]
  },
  {
   "cell_type": "code",
   "execution_count": 30,
   "metadata": {},
   "outputs": [],
   "source": [
    "#list of column names from to consider for creating combined features\n",
    "features = ['Duration','Synopsis','Cast','Genre','Tags']"
   ]
  },
  {
   "cell_type": "code",
   "execution_count": 31,
   "metadata": {},
   "outputs": [],
   "source": [
    "#ensures that 'Number of Episodes' is treated as a string when combining features later\n",
    "ndf['Number of Episodes'] = ndf['Number of Episodes'].astype(str)\n",
    "\n",
    "#concatenate values from the 'Synopsis', 'Genre', and 'Tags' columns, separated by a space, and assigns the concatenated values to the 'combined_features' column\n",
    "ndf['combined_features'] = ndf['Synopsis'] + \" \" + ndf['Genre'] + \" \" + ndf['Tags']"
   ]
  },
  {
   "cell_type": "code",
   "execution_count": 32,
   "metadata": {},
   "outputs": [],
   "source": [
    "#convert a collection of text documents into a matrix of token counts.\n",
    "cv = CountVectorizer()\n",
    "\n",
    "#transforms the text data into a matrix of token counts, where each row represents a document and each column represents a unique word\n",
    "count_matrix = cv.fit_transform(ndf['combined_features'])\n",
    "\n",
    "#cosine similarity measures the similarity between each pair of documents in the 'count_matrix'\n",
    "cosine_sim = cosine_similarity(count_matrix)"
   ]
  },
  {
   "cell_type": "markdown",
   "metadata": {},
   "source": [
    "### KDrama title searcher"
   ]
  },
  {
   "cell_type": "code",
   "execution_count": 33,
   "metadata": {},
   "outputs": [],
   "source": [
    "#search for drama with the keyword\n",
    "def kdrama_available(key):\n",
    "    \n",
    "    keyword = key\n",
    "    \n",
    "    print(\"Drama with keyword: [{}]\".format(keyword))\n",
    "    \n",
    "    for i, mov in enumerate(ndf[ndf['Name'].str.contains(keyword)]['Name'].to_list()):\n",
    "        print(\"{}) {} \".format(i+1,mov))"
   ]
  },
  {
   "cell_type": "code",
   "execution_count": 34,
   "metadata": {},
   "outputs": [
    {
     "name": "stdout",
     "output_type": "stream",
     "text": [
      "Drama with keyword: [Crash Landing On You]\n"
     ]
    }
   ],
   "source": [
    "#searching for 'Extraordinary Attorney Woo'\n",
    "kdrama_available('Crash Landing On You')"
   ]
  },
  {
   "cell_type": "code",
   "execution_count": 35,
   "metadata": {},
   "outputs": [],
   "source": [
    "#tfdif is an importance score of each word in a document considering its frequency and rarity \n",
    "tfdif_vector = TfidfVectorizer(stop_words = 'english')\n",
    "\n",
    "#tfidf_matrix contains the tfdif scores for each word in each synopsis.\n",
    "tfidf_matrix = tfdif_vector.fit_transform(ndf['Synopsis'])\n",
    "\n",
    "#represents the pairwise similarity scores\n",
    "sim_matrix = linear_kernel(tfidf_matrix, tfidf_matrix)\n",
    "\n",
    "#'Name' column is index. can map a drama name to its corresponding index in ndf. drop_duplicates ensures that each drama name has a unique index\n",
    "indicies = pd.Series(ndf.index, index = ndf['Name']).drop_duplicates()"
   ]
  },
  {
   "cell_type": "markdown",
   "metadata": {},
   "source": [
    "### Recommendation based of cosine similarity"
   ]
  },
  {
   "cell_type": "code",
   "execution_count": 36,
   "metadata": {},
   "outputs": [],
   "source": [
    "#finds similar dramas based on the cosine similarity matrix, and prints the recommendations along with their similarity scores. If the user's input is not found in the database, it displays an error message.\n",
    "def kdrama_recommendation(mov,sim_num = 5):\n",
    "\n",
    "    user_choice = mov\n",
    "    \n",
    "    try:\n",
    "        ref_index = ndf[ndf['Name'].str.contains(user_choice, case = False)].index[0]\n",
    "\n",
    "        similar_movies = list(enumerate(cosine_sim[ref_index]))\n",
    "\n",
    "        sorted_simmilar_movies = sorted(similar_movies, key = lambda x: x[1], reverse = True)[1:]\n",
    "\n",
    "        print('\\nRecomended K Drama for [{}]'.format(user_choice))\n",
    "        print('-'*(24 + len(user_choice)))\n",
    "\n",
    "        for i, element in enumerate(sorted_simmilar_movies):\n",
    "            similar_movie_id = element[0]\n",
    "            similar_movie_title = ndf['Name'].iloc[similar_movie_id]\n",
    "            s_score = element[1]\n",
    "            print('{:40} -> {:.3f}'.format(similar_movie_title, s_score))\n",
    "\n",
    "            if i > sim_num:\n",
    "                break\n",
    "    except IndexError:\n",
    "        print(\"\\n[{}] is not in our database!\".format(user_choice))\n",
    "        print(\"We couldn't recommend anyting...Sorry...\")"
   ]
  },
  {
   "cell_type": "code",
   "execution_count": 37,
   "metadata": {},
   "outputs": [
    {
     "name": "stdout",
     "output_type": "stream",
     "text": [
      "\n",
      "Recomended K Drama for [Extraordinary Attorney Woo]\n",
      "--------------------------------------------------\n",
      "Law School                               -> 0.486\n",
      "Run On                                   -> 0.485\n",
      "Mother                                   -> 0.476\n",
      "Touch Your Heart                         -> 0.473\n",
      "Juvenile Justice                         -> 0.471\n",
      "Welcome 2 Life                           -> 0.468\n",
      "Lawless Lawyer                           -> 0.466\n"
     ]
    }
   ],
   "source": [
    "kdrama_recommendation('Extraordinary Attorney Woo')"
   ]
  },
  {
   "cell_type": "markdown",
   "metadata": {},
   "source": [
    "### Recommendation based of similarity matrix"
   ]
  },
  {
   "cell_type": "code",
   "execution_count": 38,
   "metadata": {},
   "outputs": [],
   "source": [
    "#similar dramas based on the similarity matrix\n",
    "def content_based_recommender(title, sim_scores = sim_matrix):\n",
    "    idx = indicies[title]\n",
    "    \n",
    "    sim_scores = list(enumerate(sim_matrix[idx]))\n",
    "    \n",
    "    sim_scores = sorted(sim_scores, key = lambda x : x[1], reverse = True)\n",
    "    \n",
    "    sim_scores = sim_scores[1:11]\n",
    "    \n",
    "    drama_score = list()\n",
    "    for score in sim_scores:\n",
    "        drama_score.append(score[1])\n",
    "    \n",
    "    kdrama_indices = [i[0] for i in sim_scores]\n",
    "    \n",
    "    kdrama_name = ndf['Name'].iloc[kdrama_indices]\n",
    "    \n",
    "    print('\\nRecomended KDrama for [{}]'.format(title))\n",
    "    print('-'*(24 + len(title)))\n",
    "    \n",
    "    for score,name in list(zip(drama_score,kdrama_name)):\n",
    "        print(\"{:30} -> {:.3f}\".format(name,score))"
   ]
  },
  {
   "cell_type": "code",
   "execution_count": 39,
   "metadata": {},
   "outputs": [],
   "source": [
    "#reducing words to their base or root form\n",
    "lemmatizer = WordNetLemmatizer()\n",
    "\n",
    "#remove stop words(a, the, is, etc.) because no significant meaning\n",
    "stop_words = set(stopwords.words('english'))\n",
    "\n",
    "#filter out non-verb words during text analysis tasks\n",
    "VERB_CODES = {'VB', 'VBD', 'VBG', 'VBN', 'VBP', 'VBZ'}"
   ]
  },
  {
   "cell_type": "code",
   "execution_count": 49,
   "metadata": {},
   "outputs": [
    {
     "name": "stdout",
     "output_type": "stream",
     "text": [
      "\n",
      "Recomended KDrama for [Goblin]\n",
      "------------------------------\n",
      "Are You Human Too?             -> 0.114\n",
      "One Ordinary Day               -> 0.103\n",
      "My Unfamiliar Family           -> 0.098\n",
      "Weak Hero Class 1              -> 0.092\n",
      "Lost                           -> 0.090\n",
      "Oh My Venus                    -> 0.087\n",
      "Light on Me                    -> 0.086\n",
      "Terius Behind Me               -> 0.082\n",
      "Bulgasal: Immortal Souls       -> 0.081\n",
      "Again My Life                  -> 0.080\n"
     ]
    }
   ],
   "source": [
    "content_based_recommender('Goblin')"
   ]
  },
  {
   "cell_type": "code",
   "execution_count": 41,
   "metadata": {},
   "outputs": [
    {
     "data": {
      "text/plain": [
       "0    geu roo young autistic man work father busines...\n",
       "1    although baek hee sung hide dark secret surrou...\n",
       "2    story people go day seemingly ordinary actuall...\n",
       "3    everyday extraordinary five doctor patient ins...\n",
       "4    park dong hoon engineer marry attorney kang yo...\n",
       "Name: synopsis_processed, dtype: object"
      ]
     },
     "execution_count": 41,
     "metadata": {},
     "output_type": "execute_result"
    }
   ],
   "source": [
    "#clean and normalize the text data from 'Synopsis' column of ndf\n",
    "def preprocess_sentences(text):\n",
    "    text = text.lower()\n",
    "    temp_sent =[]\n",
    "    words = nltk.word_tokenize(text)\n",
    "    tags = nltk.pos_tag(words)\n",
    "    for i, word in enumerate(words):\n",
    "        if tags[i][1] in VERB_CODES: \n",
    "              lemmatized = lemmatizer.lemmatize(word, 'v')\n",
    "        else:\n",
    "              lemmatized = lemmatizer.lemmatize(word)\n",
    "        if lemmatized not in stop_words and lemmatized.isalpha():\n",
    "              temp_sent.append(lemmatized)\n",
    "\n",
    "    finalsent = ' '.join(temp_sent)\n",
    "    finalsent = finalsent.replace(\"n't\", \" not\")\n",
    "    finalsent = finalsent.replace(\"'m\", \" am\")\n",
    "    finalsent = finalsent.replace(\"'s\", \" is\")\n",
    "    finalsent = finalsent.replace(\"'re\", \" are\")\n",
    "    finalsent = finalsent.replace(\"'ll\", \" will\")\n",
    "    finalsent = finalsent.replace(\"'ve\", \" have\")\n",
    "    finalsent = finalsent.replace(\"'d\", \" would\")\n",
    "    return finalsent\n",
    "\n",
    "ndf_copy = ndf.copy()\n",
    "ndf_copy['synopsis_processed'] = ndf_copy['Synopsis'].apply(preprocess_sentences)\n",
    "ndf_copy['synopsis_processed'].head()"
   ]
  },
  {
   "cell_type": "code",
   "execution_count": 42,
   "metadata": {},
   "outputs": [],
   "source": [
    "#find similar documents based on their cosine similarity values\n",
    "tfdifvec = TfidfVectorizer()\n",
    "tfdif_drama_processed = tfdifvec.fit_transform((ndf_copy['synopsis_processed']))\n",
    "ndf_cosine = cosine_similarity(tfdif_drama_processed,tfdif_drama_processed)"
   ]
  },
  {
   "cell_type": "markdown",
   "metadata": {},
   "source": [
    "### Recommendation based of similarity values"
   ]
  },
  {
   "cell_type": "code",
   "execution_count": 43,
   "metadata": {},
   "outputs": [],
   "source": [
    "#picks indices of the top 10 KDramas with the highest cosine similarity values.\n",
    "indices = pd.Series(ndf_copy['Name'])\n",
    "  \n",
    "def recommendations(title, cosine_sim = ndf_cosine):\n",
    "    recommended_movies = []\n",
    "    index = indices[indices == title].index[0]\n",
    "    similarity_scores = pd.Series(cosine_sim[index]).sort_values(ascending = False)\n",
    "    top_10_movies = list(similarity_scores.iloc[1:11].index)\n",
    "    for i in top_10_movies:\n",
    "        recommended_movies.append(list(ndf_copy['Name'].index)[i])\n",
    "        \n",
    "    print('\\nRecomended KDrama for [{}]'.format(title))\n",
    "    print('-'*(24 + len(title)))\n",
    "    \n",
    "    for index in recommended_movies:\n",
    "        print(ndf_copy.iloc[index]['Name'])"
   ]
  },
  {
   "cell_type": "code",
   "execution_count": 48,
   "metadata": {},
   "outputs": [
    {
     "name": "stdout",
     "output_type": "stream",
     "text": [
      "\n",
      "Recomended KDrama for [Crash Landing on You]\n",
      "--------------------------------------------\n",
      "Mr. Queen\n",
      "Kill Me, Heal Me\n",
      "Twenty-Five Twenty-One\n",
      "A Business Proposal\n",
      "Mr. Sunshine\n",
      "Ugly Alert\n",
      "Kairos\n",
      "Chicago Typewriter\n",
      "Voice 3: City of Accomplices\n",
      "Nine: Nine Times Time Travel\n"
     ]
    }
   ],
   "source": [
    "recommendations(\"Crash Landing on You\")"
   ]
  },
  {
   "cell_type": "code",
   "execution_count": 45,
   "metadata": {},
   "outputs": [],
   "source": [
    "def recommendationZ(title, cosine_sim=ndf_cosine):\n",
    "    recommended_movies = []\n",
    "    lower_title = title.lower()  # Convert search input to lowercase\n",
    "\n",
    "    # Find fuzzy matches and get the best match\n",
    "    best_match = process.extractOne(lower_title, ndf_copy['Name'], scorer=fuzz.token_sort_ratio)\n",
    "    if best_match[1] < 70:  # Set a threshold for fuzzy matching confidence\n",
    "        print(\"Can't find that KDrama. Please check the spelling, upper/lower casing, or try a different title.\")\n",
    "        return\n",
    "    \n",
    "    index = indices[indices == best_match[0]].index[0]\n",
    "    similarity_scores = pd.Series(cosine_sim[index]).sort_values(ascending=False)\n",
    "    top_10_movies = list(similarity_scores.iloc[1:11].index)\n",
    "    for i in top_10_movies:\n",
    "        recommended_movies.append(list(ndf_copy['Name'].index)[i])\n",
    "        \n",
    "    print('\\nRecommended KDramas for [{}]'.format(title))\n",
    "    print('-' * (24 + len(title)))\n",
    "    \n",
    "    for index in recommended_movies:\n",
    "        print(ndf_copy.iloc[index]['Name'])\n"
   ]
  },
  {
   "cell_type": "code",
   "execution_count": 46,
   "metadata": {},
   "outputs": [
    {
     "name": "stdout",
     "output_type": "stream",
     "text": [
      "\n",
      "Recommended KDramas for [Crush landing onyou]\n",
      "-------------------------------------------\n",
      "Mr. Queen\n",
      "Kill Me, Heal Me\n",
      "Twenty-Five Twenty-One\n",
      "A Business Proposal\n",
      "Mr. Sunshine\n",
      "Ugly Alert\n",
      "Kairos\n",
      "Chicago Typewriter\n",
      "Voice 3: City of Accomplices\n",
      "Nine: Nine Times Time Travel\n"
     ]
    }
   ],
   "source": [
    "recommendationZ(\"Crush landing onyou\")"
   ]
  },
  {
   "cell_type": "code",
   "execution_count": null,
   "metadata": {},
   "outputs": [],
   "source": [
    "def recommendationZ(cosine_sim=ndf_cosine):\n",
    "    recommended_movies = []\n",
    "    \n",
    "    # Prompt user for KDrama title\n",
    "    title = input(\"Enter the KDrama title: \")\n",
    "    lower_title = title.lower()  # Convert search input to lowercase\n",
    "\n",
    "    # Find fuzzy matches and get the best match\n",
    "    best_match = process.extractOne(lower_title, ndf_copy['Name'], scorer=fuzz.token_sort_ratio)\n",
    "    if best_match[1] < 70:  # Set a threshold for fuzzy matching confidence\n",
    "        print(\"Can't find that KDrama. Please check the spelling, upper/lower casing, or try a different title.\")\n",
    "        return\n",
    "    \n",
    "    index = indices[indices == best_match[0]].index[0]\n",
    "    similarity_scores = pd.Series(cosine_sim[index]).sort_values(ascending=False)\n",
    "    top_10_movies = list(similarity_scores.iloc[1:11].index)\n",
    "    for i in top_10_movies:\n",
    "        recommended_movies.append(list(ndf_copy['Name'].index)[i])\n",
    "        \n",
    "    print('\\nRecommended KDramas for [{}]'.format(title))\n",
    "    print('-' * (24 + len(title)))\n",
    "    \n",
    "    for index in recommended_movies:\n",
    "        print(ndf_copy.iloc[index]['Name'])"
   ]
  },
  {
   "cell_type": "code",
   "execution_count": 52,
   "metadata": {},
   "outputs": [
    {
     "data": {
      "application/vnd.jupyter.widget-view+json": {
       "model_id": "c6b88abb5fd84ef8a86abf87a9ba4f1c",
       "version_major": 2,
       "version_minor": 0
      },
      "text/plain": [
       "Text(value='', description='KDrama Title:', placeholder='Enter the KDrama title')"
      ]
     },
     "metadata": {},
     "output_type": "display_data"
    }
   ],
   "source": [
    "recommendationZ()"
   ]
  },
  {
   "cell_type": "code",
   "execution_count": null,
   "metadata": {},
   "outputs": [],
   "source": []
  }
 ],
 "metadata": {
  "kernelspec": {
   "display_name": "Python 3",
   "language": "python",
   "name": "python3"
  },
  "language_info": {
   "codemirror_mode": {
    "name": "ipython",
    "version": 3
   },
   "file_extension": ".py",
   "mimetype": "text/x-python",
   "name": "python",
   "nbconvert_exporter": "python",
   "pygments_lexer": "ipython3",
   "version": "3.7.6"
  }
 },
 "nbformat": 4,
 "nbformat_minor": 4
}
